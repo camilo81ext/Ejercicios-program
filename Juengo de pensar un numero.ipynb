{
 "cells": [
  {
   "cell_type": "code",
   "execution_count": 18,
   "id": "705f037e-c452-456b-af58-d5b4bbb11891",
   "metadata": {},
   "outputs": [],
   "source": [
    "## Piensa un numero y escribelo abajo\n",
    "x=7"
   ]
  },
  {
   "cell_type": "code",
   "execution_count": 19,
   "id": "0dc13361-b1f3-48cc-a6f2-d4ebda882b8b",
   "metadata": {},
   "outputs": [
    {
     "data": {
      "text/plain": [
       "12"
      ]
     },
     "execution_count": 19,
     "metadata": {},
     "output_type": "execute_result"
    }
   ],
   "source": [
    "x+5"
   ]
  },
  {
   "cell_type": "code",
   "execution_count": 20,
   "id": "d109530a-530f-4514-b041-7bb9b0b232e0",
   "metadata": {},
   "outputs": [
    {
     "data": {
      "text/plain": [
       "24"
      ]
     },
     "execution_count": 20,
     "metadata": {},
     "output_type": "execute_result"
    }
   ],
   "source": [
    "(x+5)*2"
   ]
  },
  {
   "cell_type": "code",
   "execution_count": 21,
   "id": "243a4a2d-75eb-4989-b981-5847b720bd93",
   "metadata": {},
   "outputs": [
    {
     "data": {
      "text/plain": [
       "20"
      ]
     },
     "execution_count": 21,
     "metadata": {},
     "output_type": "execute_result"
    }
   ],
   "source": [
    "((x+5)*2)-4"
   ]
  },
  {
   "cell_type": "code",
   "execution_count": 22,
   "id": "ad7e615b-9735-4ae1-8160-1403e8169b6e",
   "metadata": {},
   "outputs": [
    {
     "data": {
      "text/plain": [
       "10.0"
      ]
     },
     "execution_count": 22,
     "metadata": {},
     "output_type": "execute_result"
    }
   ],
   "source": [
    "(((x+5)*2)-4)/2"
   ]
  },
  {
   "cell_type": "code",
   "execution_count": 26,
   "id": "21d45819-4aa1-4e23-9d65-8ab7a870ab0e",
   "metadata": {},
   "outputs": [],
   "source": [
    "## Escriba el numero anterior sin el decimal\n",
    "x=10"
   ]
  },
  {
   "cell_type": "code",
   "execution_count": 27,
   "id": "2857a1bf-cffe-4fb6-8268-b2bf1235f6a5",
   "metadata": {},
   "outputs": [
    {
     "data": {
      "text/plain": [
       "3"
      ]
     },
     "execution_count": 27,
     "metadata": {},
     "output_type": "execute_result"
    }
   ],
   "source": [
    "x-7"
   ]
  },
  {
   "cell_type": "code",
   "execution_count": null,
   "id": "7e1d0386-3674-4971-acac-69b26f9ac027",
   "metadata": {},
   "outputs": [],
   "source": []
  },
  {
   "cell_type": "code",
   "execution_count": null,
   "id": "52f32b5c-a667-4119-b8f4-c780f7c30d43",
   "metadata": {},
   "outputs": [],
   "source": []
  }
 ],
 "metadata": {
  "kernelspec": {
   "display_name": "Python 3 (ipykernel)",
   "language": "python",
   "name": "python3"
  },
  "language_info": {
   "codemirror_mode": {
    "name": "ipython",
    "version": 3
   },
   "file_extension": ".py",
   "mimetype": "text/x-python",
   "name": "python",
   "nbconvert_exporter": "python",
   "pygments_lexer": "ipython3",
   "version": "3.9.7"
  }
 },
 "nbformat": 4,
 "nbformat_minor": 5
}
