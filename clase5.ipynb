{
 "cells": [
  {
   "cell_type": "markdown",
   "id": "ad0a3d92-1ec0-4016-8002-29cd34f94201",
   "metadata": {},
   "source": [
    "# clase 5\n",
    "\n",
    "**primeros scripts**\n",
    "\n",
    "vamos a definir en una celda 3 variabls,una que contenga el nombre, otra que contenga mi edad y otra que muestre el porcentaje de la semana que utilizo para el curso de programacion"
   ]
  },
  {
   "cell_type": "code",
   "execution_count": 36,
   "id": "3b75e221-5d49-4787-983b-7310f8b2d6f5",
   "metadata": {},
   "outputs": [],
   "source": [
    "Nombre= 'Camilo Rojas'\n",
    "edad=17\n",
    "por_prog= (4+2)/(24*5)"
   ]
  },
  {
   "cell_type": "code",
   "execution_count": 37,
   "id": "4cf7a351-cb27-4f43-a23b-eed4ae72afe9",
   "metadata": {},
   "outputs": [
    {
     "data": {
      "text/plain": [
       "'mi nombre es Camilo Rojas.tengo 17 años y soy externadista'"
      ]
     },
     "execution_count": 37,
     "metadata": {},
     "output_type": "execute_result"
    }
   ],
   "source": [
    "texto1= 'mi nombre es {}.tengo {} años y soy externadista'.format(Nombre,edad)\n",
    "texto1"
   ]
  },
  {
   "cell_type": "code",
   "execution_count": 38,
   "id": "85c2a613-5cc5-4872-b9d1-13e332ef1944",
   "metadata": {},
   "outputs": [
    {
     "data": {
      "text/plain": [
       "'mi nombre es Camilo Rojas, tengo 17 añosy soy externadista'"
      ]
     },
     "execution_count": 38,
     "metadata": {},
     "output_type": "execute_result"
    }
   ],
   "source": [
    "texto1='mi nombre es {nombre}, tengo {edad} añosy soy externadista'.format(nombre=Nombre,edad=edad)\n",
    "texto1"
   ]
  },
  {
   "cell_type": "code",
   "execution_count": 39,
   "id": "ccea4512-b69e-4ea3-b9a7-397d5a8104d8",
   "metadata": {},
   "outputs": [
    {
     "data": {
      "text/plain": [
       "'Mi nombre es Camilo Rojas,tengo 17 años y soy externadista y dedico el 5.0% de la semana a programacion'"
      ]
     },
     "execution_count": 39,
     "metadata": {},
     "output_type": "execute_result"
    }
   ],
   "source": [
    "texto2='Mi nombre es {nombre},tengo {edad} años y soy externadista y dedico el {porcentaje:.1%} de la semana a programacion'.format(nombre=Nombre, edad=edad, porcentaje=por_prog)\n",
    "texto2"
   ]
  },
  {
   "cell_type": "code",
   "execution_count": 40,
   "id": "46d82135-35aa-4a16-a82a-eebce747f46a",
   "metadata": {},
   "outputs": [
    {
     "name": "stdout",
     "output_type": "stream",
     "text": [
      "nombre: Camilo Rojas:\n",
      " edad:                  17\n"
     ]
    }
   ],
   "source": [
    "texto3='nombre: {nombre:>8}:\\n edad:{edad:>20}'.format(nombre=Nombre,edad=edad)\n",
    "print(texto3)\n"
   ]
  },
  {
   "cell_type": "code",
   "execution_count": 41,
   "id": "3c35f61c-c859-4fa0-a50a-dd8dc10d6883",
   "metadata": {},
   "outputs": [
    {
     "name": "stdout",
     "output_type": "stream",
     "text": [
      "Camilo Rojas                  :Nombre\n",
      "17                            :edad\n"
     ]
    }
   ],
   "source": [
    "texto3='{nombre:<30}:Nombre\\n{edad:<30}:edad'.format(nombre=Nombre,edad=edad)\n",
    "print(texto3)"
   ]
  },
  {
   "cell_type": "code",
   "execution_count": 42,
   "id": "45747c85-c398-44af-b1df-2fce6cc791d5",
   "metadata": {},
   "outputs": [
    {
     "name": "stdout",
     "output_type": "stream",
     "text": [
      "Camilo Rojas                  \n",
      "              17              \n"
     ]
    }
   ],
   "source": [
    "texto4='{nombre:<30}\\n{edad:^30}'.format(nombre=Nombre,edad=edad)\n",
    "print(texto4)"
   ]
  },
  {
   "cell_type": "code",
   "execution_count": 43,
   "id": "76b6f692-f3e7-443c-a4b2-a5395be7b350",
   "metadata": {},
   "outputs": [
    {
     "name": "stdout",
     "output_type": "stream",
     "text": [
      "El boleto para Bad Bunny valió $22,000,000\n"
     ]
    }
   ],
   "source": [
    "texto5='El boleto para Bad Bunny valió ${boleto:,}'.format(boleto=22000000)\n",
    "print(texto5)"
   ]
  },
  {
   "cell_type": "code",
   "execution_count": 44,
   "id": "52498f44-1b58-4f88-8fcf-7b1ea4b5af0d",
   "metadata": {},
   "outputs": [
    {
     "name": "stdout",
     "output_type": "stream",
     "text": [
      "En binario tengo $10001\n"
     ]
    }
   ],
   "source": [
    "texto5='En binario tengo ${edad:b}'.format(edad=edad)\n",
    "print(texto5)"
   ]
  },
  {
   "cell_type": "markdown",
   "id": "d52b29fe-0b89-42b7-8860-961c6126d033",
   "metadata": {},
   "source": [
    "## mas metodos de cadenas de caractéres \n",
    "\n",
    "veamos una lista de metodos e intentemos definir que hce cada una:"
   ]
  },
  {
   "cell_type": "code",
   "execution_count": 45,
   "id": "cffd6a5b-6bb7-42ca-86cd-1961a6ea1f98",
   "metadata": {},
   "outputs": [
    {
     "name": "stdout",
     "output_type": "stream",
     "text": [
      "Hola\n"
     ]
    }
   ],
   "source": [
    "texto7='hola'.capitalize() #pone mayuscula inicial\n",
    "print(texto7)"
   ]
  },
  {
   "cell_type": "code",
   "execution_count": 46,
   "id": "e841bda6-93e7-427e-bb60-4362b8772637",
   "metadata": {},
   "outputs": [
    {
     "name": "stdout",
     "output_type": "stream",
     "text": [
      "en el monte de la china una china se perdio\n"
     ]
    }
   ],
   "source": [
    "texto8='En el monte de la china una china SE PErDIO'.casefold() #pone minuscula toda \n",
    "print(texto8)"
   ]
  },
  {
   "cell_type": "code",
   "execution_count": 47,
   "id": "a78654a4-18c6-4c3f-b98b-2dc0116b8851",
   "metadata": {},
   "outputs": [
    {
     "name": "stdout",
     "output_type": "stream",
     "text": [
      "EN EL MONTE DE LA CHINA UNA CHINA SE PERDIO\n"
     ]
    }
   ],
   "source": [
    "texto9='En el monte de la china una china SE PErDIO'.upper() #pone mayuscula toda \n",
    "print(texto9)"
   ]
  },
  {
   "cell_type": "code",
   "execution_count": 48,
   "id": "e97a488a-ec11-41bd-b188-1087ba74de95",
   "metadata": {},
   "outputs": [
    {
     "name": "stdout",
     "output_type": "stream",
     "text": [
      "en el monte de la china una china se perdio\n"
     ]
    }
   ],
   "source": [
    "texto10='En el monte de la china una china SE PErDIO'.lower() #pone minuscula toda \n",
    "print(texto10)"
   ]
  },
  {
   "cell_type": "code",
   "execution_count": 49,
   "id": "51367e6f-2c2c-433b-a75c-e20293bb360d",
   "metadata": {},
   "outputs": [
    {
     "name": "stdout",
     "output_type": "stream",
     "text": [
      "En el monte de lx-x chinx-x unx-x chinx-x SE PErDIO\n"
     ]
    }
   ],
   "source": [
    "texto11='En el monte de la china una china SE PErDIO'.replace('a','x-x') #cambia las a por x-x \n",
    "print(texto11)"
   ]
  },
  {
   "cell_type": "code",
   "execution_count": 50,
   "id": "9e874ff0-38b9-4cee-bbbe-f5abbd037b46",
   "metadata": {},
   "outputs": [
    {
     "name": "stdout",
     "output_type": "stream",
     "text": [
      "eN EL MONTE DE LA CHINA UNA CHINA se peRdio\n"
     ]
    }
   ],
   "source": [
    "texto12='En el monte de la china una china SE PErDIO'.swapcase() #pone minuscula lo mayuscula y viceversa\n",
    "print(texto12)"
   ]
  },
  {
   "cell_type": "code",
   "execution_count": 51,
   "id": "c0d9e9c0-5c51-4d1f-8afb-03cec257798c",
   "metadata": {},
   "outputs": [
    {
     "name": "stdout",
     "output_type": "stream",
     "text": [
      "                            En el monte de la china una china SE PErDIO                             \n"
     ]
    }
   ],
   "source": [
    "texto13='En el monte de la china una china SE PErDIO'.center(100) #pone en el centro\n",
    "print(texto13)"
   ]
  },
  {
   "cell_type": "markdown",
   "id": "3e3a36ce-18cf-4c00-9e24-67d90f690b4b",
   "metadata": {},
   "source": [
    "otros metodos"
   ]
  },
  {
   "cell_type": "code",
   "execution_count": 52,
   "id": "30e8aee4-0fbd-47f1-bb25-dea3f92dfec0",
   "metadata": {},
   "outputs": [
    {
     "name": "stdout",
     "output_type": "stream",
     "text": [
      "2\n"
     ]
    }
   ],
   "source": [
    "x1='las bananas son ricas en potacio'.count('an')\n",
    "print(x1)"
   ]
  },
  {
   "cell_type": "code",
   "execution_count": 53,
   "id": "62563480-8089-4206-a7c5-2616d9d9812a",
   "metadata": {},
   "outputs": [
    {
     "name": "stdout",
     "output_type": "stream",
     "text": [
      "Katia Nule, esposa del precandidato presidencial Alejandro Char, se pronunció en la mañana de este martes por las recientes declaraciones e imágenes que han salido a la luz pública sobre Aida Merlano.\n",
      "\n",
      "(Lea también: 'Aida Merlano será denunciada por falso testimonio': abogado de Álex Char)\n",
      "\n",
      "“Dicen que al pasado pisado, y al presente de frente. Y así debe ser. Yo por eso quiero contarles que toda esa información que ha salido últimamente no es nueva para mí ni para mi familia”, dijo la exprimera dama de Barranquilla.\n"
     ]
    }
   ],
   "source": [
    "x1='''Katia Nule, esposa del precandidato presidencial Alejandro Char, se pronunció en la mañana de este martes por las recientes declaraciones e imágenes que han salido a la luz pública sobre Aida Merlano.\n",
    "\n",
    "(Lea también: 'Aida Merlano será denunciada por falso testimonio': abogado de Álex Char)\n",
    "\n",
    "“Dicen que al pasado pisado, y al presente de frente. Y así debe ser. Yo por eso quiero contarles que toda esa información que ha salido últimamente no es nueva para mí ni para mi familia”, dijo la exprimera dama de Barranquilla.'''\n",
    "print(x1)"
   ]
  },
  {
   "cell_type": "code",
   "execution_count": 54,
   "id": "4e428520-bc5b-4902-977d-3bcb8ea289a7",
   "metadata": {},
   "outputs": [
    {
     "name": "stdout",
     "output_type": "stream",
     "text": [
      "4\n"
     ]
    }
   ],
   "source": [
    "x1='''hola\n",
    "muchachos\n",
    "de\n",
    "programación'''.count('a')\n",
    "print(x1)"
   ]
  },
  {
   "cell_type": "code",
   "execution_count": 55,
   "id": "8a5b41c4-6c6b-4b2c-9023-716ee1a10f9d",
   "metadata": {},
   "outputs": [
    {
     "name": "stdout",
     "output_type": "stream",
     "text": [
      "0\n"
     ]
    }
   ],
   "source": [
    "x2='en el externado soy muy feliz' .find('en') #cuenta en que posición esta ubicado\n",
    "print(x2)"
   ]
  },
  {
   "cell_type": "code",
   "execution_count": 56,
   "id": "689290f8-c0b6-4721-ba5d-faea0d583e68",
   "metadata": {},
   "outputs": [
    {
     "name": "stdout",
     "output_type": "stream",
     "text": [
      "3\n"
     ]
    }
   ],
   "source": [
    "x2='en el externado soy muy feliz' .find('el') #cuenta en que posición esta ubicado\n",
    "print(x2)"
   ]
  },
  {
   "cell_type": "code",
   "execution_count": 57,
   "id": "13d05098-797a-4c91-b409-4c9136798927",
   "metadata": {},
   "outputs": [
    {
     "name": "stdout",
     "output_type": "stream",
     "text": [
      "6\n"
     ]
    }
   ],
   "source": [
    "x2='en el externado soy muy feliz' .find('externado') #cuenta en que posición esta ubicado\n",
    "print(x2)"
   ]
  },
  {
   "cell_type": "code",
   "execution_count": 58,
   "id": "af047eeb-094c-4ff3-833e-4d9eafc1dfad",
   "metadata": {},
   "outputs": [
    {
     "name": "stdout",
     "output_type": "stream",
     "text": [
      "16\n"
     ]
    }
   ],
   "source": [
    "x2='en el externado soy muy feliz' .find('soy') #cuenta en que posición esta ubicado\n",
    "print(x2)"
   ]
  },
  {
   "cell_type": "code",
   "execution_count": 59,
   "id": "800adf56-77a2-4758-a184-e22ec1eecb67",
   "metadata": {},
   "outputs": [
    {
     "name": "stdout",
     "output_type": "stream",
     "text": [
      "20\n"
     ]
    }
   ],
   "source": [
    "x2='en el externado soy muy feliz' .find('muy') #cuenta en que posición esta ubicado\n",
    "print(x2)"
   ]
  },
  {
   "cell_type": "code",
   "execution_count": 60,
   "id": "43424ad1-fb09-427f-b7f4-48c0b93ccb35",
   "metadata": {},
   "outputs": [
    {
     "name": "stdout",
     "output_type": "stream",
     "text": [
      "24\n"
     ]
    }
   ],
   "source": [
    "x2='en el externado soy muy feliz' .find('feliz') #cuenta en que posición esta ubicado\n",
    "print(x2)"
   ]
  },
  {
   "cell_type": "markdown",
   "id": "535462ad-a8e7-4c73-940a-3289c9a8a874",
   "metadata": {},
   "source": [
    "En phyton los textos son arreglos, o mas bien secuencias ordenada de caracteres. Cada teexto tiene un orden segun la aparicion de cada caracter."
   ]
  },
  {
   "cell_type": "code",
   "execution_count": 61,
   "id": "b9c0fe2b-dd3c-4c94-b0e8-2e1349d569b1",
   "metadata": {},
   "outputs": [],
   "source": [
    "texto_normal='0123456789'"
   ]
  },
  {
   "cell_type": "code",
   "execution_count": 62,
   "id": "06fc21ed-f070-46f3-b27d-50587e244b62",
   "metadata": {},
   "outputs": [
    {
     "data": {
      "text/plain": [
       "'0'"
      ]
     },
     "execution_count": 62,
     "metadata": {},
     "output_type": "execute_result"
    }
   ],
   "source": [
    "texto_normal[0]#identifico a cada caracter en esta lista de arreglos con parentesisi cuadrados "
   ]
  },
  {
   "cell_type": "code",
   "execution_count": 63,
   "id": "b961e131-d0ed-4a40-bcb0-1912cbecbadf",
   "metadata": {},
   "outputs": [
    {
     "data": {
      "text/plain": [
       "'4'"
      ]
     },
     "execution_count": 63,
     "metadata": {},
     "output_type": "execute_result"
    }
   ],
   "source": [
    "texto_normal[4]"
   ]
  },
  {
   "cell_type": "code",
   "execution_count": 64,
   "id": "c6e0c42d-59ed-4b53-9e5d-a369ba8b197c",
   "metadata": {},
   "outputs": [
    {
     "data": {
      "text/plain": [
       "'0123'"
      ]
     },
     "execution_count": 64,
     "metadata": {},
     "output_type": "execute_result"
    }
   ],
   "source": [
    "texto_normal[0:4] # Los dos valores"
   ]
  },
  {
   "cell_type": "code",
   "execution_count": 65,
   "id": "5382853f-1970-4e9f-9b8d-c119b01147c0",
   "metadata": {},
   "outputs": [
    {
     "data": {
      "text/plain": [
       "'45678'"
      ]
     },
     "execution_count": 65,
     "metadata": {},
     "output_type": "execute_result"
    }
   ],
   "source": [
    "texto_normal[4:9]"
   ]
  },
  {
   "cell_type": "code",
   "execution_count": 66,
   "id": "f7dd4e57-42dc-40aa-b4a9-38dc198ac62e",
   "metadata": {},
   "outputs": [],
   "source": [
    "texto_normal='colombia vera a Qatar desde la sala de la casa'# cuenta la posicicon  caracteres\n"
   ]
  },
  {
   "cell_type": "code",
   "execution_count": 67,
   "id": "2d299b67-7bb6-411f-b9dd-5f02deaba06c",
   "metadata": {},
   "outputs": [
    {
     "data": {
      "text/plain": [
       "'bia vera a Qata'"
      ]
     },
     "execution_count": 67,
     "metadata": {},
     "output_type": "execute_result"
    }
   ],
   "source": [
    "texto_normal[5:20]"
   ]
  },
  {
   "cell_type": "markdown",
   "id": "ec0bb937-331d-4c1a-a154-8d80bfc9f7ca",
   "metadata": {},
   "source": [
    "### funcion `input`"
   ]
  },
  {
   "cell_type": "code",
   "execution_count": 70,
   "id": "9eb41019-a23c-400f-9d3d-7076eaf9e117",
   "metadata": {},
   "outputs": [
    {
     "name": "stdout",
     "output_type": "stream",
     "text": [
      "camilo\n",
      "<class 'str'>\n"
     ]
    }
   ],
   "source": [
    "# txt=input('escriba un texto aqui:')\n",
    "print(txt)\n",
    "print(type(txt))\n",
    "#claramente input permit que el usuario pueda ingresar texto, ese texto siempre se guarda como cadena de caracteres y si se quiere cambiar debe utilizarce una funcion adecuada"
   ]
  },
  {
   "cell_type": "code",
   "execution_count": 69,
   "id": "fe983ca5-7f03-4702-8f37-917699ba8cf8",
   "metadata": {},
   "outputs": [
    {
     "name": "stdin",
     "output_type": "stream",
     "text": [
      "ingrese su nombre: camilo\n",
      "ingrese su edad;  17\n"
     ]
    },
    {
     "name": "stdout",
     "output_type": "stream",
     "text": [
      "camilo\n",
      "en el 2023 (Nombre), tendra (edad)años\n"
     ]
    }
   ],
   "source": [
    "txt=input('ingrese su nombre:')\n",
    "age=input('ingrese su edad; ')\n",
    "age=int(age)\n",
    "\n",
    "print(txt)\n",
    "print('en el 2023 (Nombre), tendra (edad)años' .format(nombre=txt, edad=age+1))"
   ]
  },
  {
   "cell_type": "code",
   "execution_count": null,
   "id": "24115db6-528e-49f7-9420-2553b7b72031",
   "metadata": {},
   "outputs": [],
   "source": []
  }
 ],
 "metadata": {
  "kernelspec": {
   "display_name": "Python 3 (ipykernel)",
   "language": "python",
   "name": "python3"
  },
  "language_info": {
   "codemirror_mode": {
    "name": "ipython",
    "version": 3
   },
   "file_extension": ".py",
   "mimetype": "text/x-python",
   "name": "python",
   "nbconvert_exporter": "python",
   "pygments_lexer": "ipython3",
   "version": "3.9.7"
  }
 },
 "nbformat": 4,
 "nbformat_minor": 5
}
