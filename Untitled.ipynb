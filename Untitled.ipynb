{
 "cells": [
  {
   "cell_type": "markdown",
   "id": "be56e8c8",
   "metadata": {},
   "source": [
    "# *Carta para mi*"
   ]
  },
  {
   "cell_type": "code",
   "execution_count": 18,
   "id": "d049c531",
   "metadata": {},
   "outputs": [
    {
     "name": "stdout",
     "output_type": "stream",
     "text": [
      "Camilo                                                                   08/02/22\n",
      "Estimado Camilo, hoy a tus 17 me encuentro haciendo un pregrado en ciencia de datos en la universidad Externado de colombia El cual es muy bueno\n"
     ]
    }
   ],
   "source": [
    "txt=input('ingrese su nombre:')\n",
    "age=input('ingrese su edad:')\n",
    "age=int(age)\n",
    "date=input('ingrese la fecha  ')\n",
    "\n",
    "\n",
    "\n",
    "\n",
    "print('{nombre:>1}{date:>75}\\nEstimado {nombre}, hoy a tus {edad} me encuentro haciendo un pregrado en ciencia de datos en la universidad Externado de colombia El cual es muy bueno' .format(nombre=txt,edad=age,date=date))"
   ]
  },
  {
   "cell_type": "code",
   "execution_count": null,
   "id": "4acd96d8",
   "metadata": {},
   "outputs": [],
   "source": []
  }
 ],
 "metadata": {
  "kernelspec": {
   "display_name": "Python 3 (ipykernel)",
   "language": "python",
   "name": "python3"
  },
  "language_info": {
   "codemirror_mode": {
    "name": "ipython",
    "version": 3
   },
   "file_extension": ".py",
   "mimetype": "text/x-python",
   "name": "python",
   "nbconvert_exporter": "python",
   "pygments_lexer": "ipython3",
   "version": "3.9.7"
  }
 },
 "nbformat": 4,
 "nbformat_minor": 5
}
