{
 "cells": [
  {
   "cell_type": "code",
   "execution_count": 1,
   "id": "3f74be48-3bb4-4252-8c45-abb1dc07f1f8",
   "metadata": {},
   "outputs": [],
   "source": [
    "Nombre='Camilo Rojas'\n",
    "Edad='17'"
   ]
  },
  {
   "cell_type": "code",
   "execution_count": null,
   "id": "50b8575e-9a89-43a2-b010-4f7387119e64",
   "metadata": {},
   "outputs": [],
   "source": [
    "txt=input('ingrese su nombre:')\n",
    "age=input('ingrese su edad:')\n",
    "age=int(age)\n",
    "\n",
    "print(txt)\n",
    "print(age)"
   ]
  },
  {
   "cell_type": "code",
   "execution_count": null,
   "id": "5f0a651b-4e82-479f-abb6-c15053ce6923",
   "metadata": {},
   "outputs": [],
   "source": []
  }
 ],
 "metadata": {
  "kernelspec": {
   "display_name": "Python 3 (ipykernel)",
   "language": "python",
   "name": "python3"
  },
  "language_info": {
   "codemirror_mode": {
    "name": "ipython",
    "version": 3
   },
   "file_extension": ".py",
   "mimetype": "text/x-python",
   "name": "python",
   "nbconvert_exporter": "python",
   "pygments_lexer": "ipython3",
   "version": "3.9.7"
  }
 },
 "nbformat": 4,
 "nbformat_minor": 5
}
