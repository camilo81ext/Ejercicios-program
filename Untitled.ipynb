{
 "cells": [
  {
   "cell_type": "markdown",
   "id": "be56e8c8",
   "metadata": {},
   "source": [
    "# *Carta para mi*"
   ]
  },
  {
   "cell_type": "code",
   "execution_count": 12,
   "id": "d049c531",
   "metadata": {},
   "outputs": [
    {
     "name": "stdout",
     "output_type": "stream",
     "text": [
      "Camilo\n",
      "08/02/22\n",
      "Estimado Camilo, hoy a tus 17 me encuentro haciendo un pregrado en ciencia de datos en la universidad Externado de colombia El cual es muy bueno\n"
     ]
    }
   ],
   "source": [
    "txt=input('ingrese su nombre:')\n",
    "age=input('ingrese su edad:')\n",
    "age=int(age)\n",
    "date=input('ingrese la fecha  ')\n",
    "\n",
    "print(txt)\n",
    "print(date)\n",
    "\n",
    "print('Estimado {nombre}, hoy a tus {edad} me encuentro haciendo un pregrado en ciencia de datos en la universidad Externado de colombia El cual es muy bueno' .format(nombre=txt,edad=age))"
   ]
  }
 ],
 "metadata": {
  "kernelspec": {
   "display_name": "Python 3 (ipykernel)",
   "language": "python",
   "name": "python3"
  },
  "language_info": {
   "codemirror_mode": {
    "name": "ipython",
    "version": 3
   },
   "file_extension": ".py",
   "mimetype": "text/x-python",
   "name": "python",
   "nbconvert_exporter": "python",
   "pygments_lexer": "ipython3",
   "version": "3.9.7"
  }
 },
 "nbformat": 4,
 "nbformat_minor": 5
}
