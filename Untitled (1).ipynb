{
 "cells": [
  {
   "cell_type": "markdown",
   "id": "be56e8c8",
   "metadata": {},
   "source": [
    "# *Carta para mi*"
   ]
  },
  {
   "cell_type": "code",
   "execution_count": 1,
   "id": "18c2b7ed-ca06-4417-929e-fcde60cba593",
   "metadata": {},
   "outputs": [],
   "source": [
    "from datetime import date\n",
    "from datetime import datetime\n",
    "from datetime import timedelta"
   ]
  },
  {
   "cell_type": "code",
   "execution_count": 2,
   "id": "4acd96d8",
   "metadata": {},
   "outputs": [
    {
     "name": "stdout",
     "output_type": "stream",
     "text": [
      "ingrese su nombre: Camilo\n",
      "ingrese su edad: 17\n"
     ]
    },
    {
     "name": "stdout",
     "output_type": "stream",
     "text": [
      "\n",
      "Bogota, 2022-02-10\n",
      " \n",
      "Estimado:\n",
      "\n",
      "Camilo\n",
      "\n",
      "Universidad Externado de colombia \n",
      "\n",
      "departamento de matetmaticas\n",
      "\n",
      "Bogota\n",
      "\n",
      "Hola Camilo\n",
      "te escribo esto cuando tengo 17 años,te encuentras \n",
      "haciendo un pregrado en ciencia de datos en\n",
      "la universidad Externado de colombia El cual es muy bueno \n",
      "siento que ha sido una muy buena eleccion para mi y mi fututro \n",
      "antes que otra cosa, quiero decirte que sé por lo que estás \n",
      "pasando, que sé que han sido tiempos complicados, que ha habido\n",
      "momentos difíciles y tristes, pero quiero que sepas que vas a\n",
      "estar  bien y estarás mejor si crees en ti.\n",
      "En primer lugar, que tengas claro \n",
      "que nunca estarás solo para tomar desiciones  y que cuando te invada\n",
      "ese sentimiento,recuerdes que me tienes a tu mejor amiga  y cómplice\n",
      "a lo largo del camino' \n",
      "\n",
      "querido Camilo me despido por el dia de hoy con 17 \n",
      "\n",
      "Saludos,adios\n"
     ]
    }
   ],
   "source": [
    "txt=input('ingrese su nombre:')\n",
    "age=input('ingrese su edad:')\n",
    "age=int(age)\n",
    "fecha = date.today()\n",
    "nueva_fecha= fecha+timedelta(days=365)\n",
    "encabezado= ('\\nBogota, {fechas}'.format(fechas=fecha))\n",
    "\n",
    "info=(''' \\nEstimado:\n",
    "\\n{nombre}\n",
    "\\nUniversidad Externado de colombia \n",
    "\\ndepartamento de matetmaticas\n",
    "\\nBogota'''.format(nombre=txt))\n",
    "\n",
    "saludo=('''\\nHola {name}'''.format(name=txt))\n",
    "carta='''te escribo esto cuando tengo {age} años,te encuentras \n",
    "haciendo un pregrado en ciencia de datos en''' .format (age=age)\n",
    "A='''la universidad Externado de colombia El cual es muy bueno \n",
    "siento que ha sido una muy buena eleccion para mi y mi fututro \n",
    "antes que otra cosa, quiero decirte que sé por lo que estás \n",
    "pasando, que sé que han sido tiempos complicados, que ha habido\n",
    "momentos difíciles y tristes, pero quiero que sepas que vas a\n",
    "estar  bien y estarás mejor si crees en ti.\n",
    "En primer lugar, que tengas claro \n",
    "que nunca estarás solo para tomar desiciones  y que cuando te invada\n",
    "ese sentimiento,recuerdes que me tienes a tu mejor amiga  y cómplice\n",
    "a lo largo del camino' '''\n",
    "adios='''\\nquerido {name} me despido por el dia de hoy con {age} '''.format(name=txt,age=age)\n",
    "\n",
    "saludos='''\\nSaludos,adios'''\n",
    "\n",
    "\n",
    "\n",
    "print(encabezado)\n",
    "print(info)\n",
    "print(saludo)\n",
    "\n",
    "\n",
    "print(carta)\n",
    "print(A)\n",
    "\n",
    "\n",
    "print(adios)\n",
    "print(saludos)\n"
   ]
  },
  {
   "cell_type": "markdown",
   "id": "9cb6e0a9-1275-4ec6-9fb4-827ab6846a22",
   "metadata": {},
   "source": [
    "# Juego de adivinar el numero"
   ]
  },
  {
   "cell_type": "code",
   "execution_count": 3,
   "id": "f22c7062-de16-4d20-89e9-6f2cdd3d3d48",
   "metadata": {},
   "outputs": [
    {
     "name": "stdout",
     "output_type": "stream",
     "text": [
      "Bienvenido al juego\n",
      "A jugar,Piensa un numero\n",
      "súmale cinco,no te preocupes te doy algunos segundos\n",
      "Listo?,El resultado multiplicalo por dos\n",
      "El resultado de la multiplicación restale cuatro\n",
      "Ya casi, el resultado de la resta anterior dividelo entre dos\n",
      "Bueno,por ultimo restale el numero que pensaste\n",
      "tu resultado es 3\n"
     ]
    },
    {
     "data": {
      "text/plain": [
       "'si'"
      ]
     },
     "execution_count": 3,
     "metadata": {},
     "output_type": "execute_result"
    }
   ],
   "source": [
    "Texto1='Bienvenido al juego'\n",
    "texto2='A jugar,Piensa un numero'\n",
    "texto3='súmale cinco,no te preocupes te doy algunos segundos'\n",
    "texto4='Listo?,El resultado multiplicalo por dos'\n",
    "texto5='El resultado de la multiplicación restale cuatro'\n",
    "texto6='Ya casi, el resultado de la resta anterior dividelo entre dos'\n",
    "texto7='Bueno,por ultimo restale el numero que pensaste'\n",
    "texto8='tu resultado es 3'\n",
    "import time\n",
    "print(Texto1)\n",
    "time.sleep(2)\n",
    "print(texto2)\n",
    "time.sleep(6)\n",
    "print(texto3)\n",
    "time.sleep(2)\n",
    "print(texto4)\n",
    "time.sleep(4)\n",
    "print(texto5)\n",
    "time.sleep(4)\n",
    "print(texto6)\n",
    "time.sleep(4)\n",
    "input('Escribe tu resultado actual')\n",
    "time.sleep(4)\n",
    "print(texto7)\n",
    "time.sleep(2)\n",
    "print(texto8)\n",
    "input('Tengo razon?')"
   ]
  },
  {
   "cell_type": "code",
   "execution_count": null,
   "id": "c8530335",
   "metadata": {},
   "outputs": [],
   "source": []
  }
 ],
 "metadata": {
  "kernelspec": {
   "display_name": "Python 3 (ipykernel)",
   "language": "python",
   "name": "python3"
  },
  "language_info": {
   "codemirror_mode": {
    "name": "ipython",
    "version": 3
   },
   "file_extension": ".py",
   "mimetype": "text/x-python",
   "name": "python",
   "nbconvert_exporter": "python",
   "pygments_lexer": "ipython3",
   "version": "3.9.7"
  }
 },
 "nbformat": 4,
 "nbformat_minor": 5
}
